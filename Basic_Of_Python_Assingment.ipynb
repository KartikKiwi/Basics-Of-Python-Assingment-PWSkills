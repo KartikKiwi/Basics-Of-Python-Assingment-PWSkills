{
  "nbformat": 4,
  "nbformat_minor": 0,
  "metadata": {
    "colab": {
      "provenance": []
    },
    "kernelspec": {
      "name": "python3",
      "display_name": "Python 3"
    },
    "language_info": {
      "name": "python"
    }
  },
  "cells": [
    {
      "cell_type": "code",
      "execution_count": null,
      "metadata": {
        "id": "7SrLQ1TcHGoy",
        "colab": {
          "base_uri": "https://localhost:8080/"
        },
        "outputId": "bf87671d-d82c-4a79-9d18-5e28a24a66f0"
      },
      "outputs": [
        {
          "output_type": "stream",
          "name": "stdout",
          "text": [
            "Virat kohli is best bastman in the ODI cricket History\n"
          ]
        }
      ],
      "source": [
        "# Python Basic Questions\n",
        "\n",
        "#Question 1 What is Python, and why is it popular?\n",
        "#Python is a programing language, which is a binary language that understand comands and give to computer to perform perticular program.\n",
        "# Python is most common language that widly used in the data indusrty, because have more than 1,37,000 library and still growing and its a case sensitiv language\n",
        "#it's easy to learn, read and work and that,s why its used in every sector like front-end, back-end, full stack developer, data indusrty, web development etc.\n",
        "\n",
        "#Question 2 What is an interpreter in Python?\n",
        "# Interprator is and program that converts or translat python code which macine understand and perform program as per given commands.\n",
        "\n",
        "#Question 3 What are pre-defined keywords in Python?\n",
        "#Python pre-defined keywords are those keywords which are reserved to perform specific functions in the code ex. \"if\" keyword which used for conditional statements.\n",
        "\n",
        "#Question 4 Can keywords be used as variable names?\n",
        "#In python keywords are alredy has a specific work to perform in coding, so thats can not used as veriable name\n",
        "\n",
        "#Question 5 What is mutability in Python?\n",
        "#Mutability is a fuction in the python that we used to change a object of a list or data structure which is alredy created.\n",
        "\n",
        "#Question 6 Why are lists mutable, but tuples are immutable?\n",
        "#Because when we use mutability in python we used list or dictionaries which is mutable object and can change after its creation, because data store in memory blocks.\n",
        "# while if we use tuples and string its immutable object, because strings does not store data as memory block.\n",
        "\n",
        "#Question 7 What is the difference between “==” and “is” operators in Python?\n",
        "# In python \"==\" operator check for equal value, and \"is\" operator check memory block for identifying it's identity how it's stored in memory block.\n",
        "\n",
        "#Question 8 What are logical operators in Python?\n",
        "#In python, Logical operators are used to identify it's booleon value which results in true or fales values.\n",
        "\n",
        "#Question 9 What is type casting in Python?\n",
        "#In python if we want to change data type to another data type like changing string value to Integer, it's known as type casting. we can not change string words to integer using type casting.\n",
        "\n",
        "#Question 10 What is the difference between implicit and explicit type casting?\n",
        "#In python implicit type casting is an automatic function which can understand the data type like adition of integer value to float value ex. 5+3.5 = 8.5\n",
        "# Explicit type casting is change data type from one to another ex. A = \"3\" its a string which have a number,B = 4 is integer int(A) + B = 7\n",
        "\n",
        "#Question 11 What is the purpose of conditional statements in Python?\n",
        "#In python, Conditional statements are used based on pre-define condition are true.\n",
        "\n",
        "#Question 12 How does the elif statement work?\n",
        "#In python, conditional statment keyword \"elif\" stand for \"else if\", when we want to check multiple conditions in the code.\n",
        "# When 1st condition is goes false it will go to 2nd condition to check if its true.\n",
        "\n",
        "#Question 13 What is the difference between for and while loops?\n",
        "#In python, when we use while loop we have certain condition that we don't know how many time code will run until it's get true value.\n",
        "#In for loop we know exactly after how many time code will run for gets true value.\n",
        "\n",
        "#Question 14 Describe a scenario where a while loop is more suitable than a for loop?\n",
        "#When a certain condition like Virat will be best bastman in the world untill he is going to hit a century no 74 in ODI cricket, in this senario we can use,\n",
        "#while loop because we don't no the number of itration in the code. Ex.\n",
        "Virat_Century=72\n",
        "while Virat_Century < 74:\n",
        "  print(\"Virat kohli is best bastman in the ODI cricket History\")\n",
        "  Virat_Century = 74\n"
      ]
    },
    {
      "cell_type": "markdown",
      "source": [],
      "metadata": {
        "id": "QjSxZU7QpMhZ"
      }
    },
    {
      "cell_type": "markdown",
      "source": [
        "Practical Questions"
      ],
      "metadata": {
        "id": "wYLxoocvpOOV"
      }
    },
    {
      "cell_type": "code",
      "source": [
        "#Question no 1 Write a Python program to print \"Hello, World!\n",
        "print(\"Hello, World!\")"
      ],
      "metadata": {
        "colab": {
          "base_uri": "https://localhost:8080/"
        },
        "id": "5BHeDgQbpSf0",
        "outputId": "bc2f52ee-7cf6-45d0-a8df-f7597733ce30"
      },
      "execution_count": null,
      "outputs": [
        {
          "output_type": "stream",
          "name": "stdout",
          "text": [
            "Hello, World!\n"
          ]
        }
      ]
    },
    {
      "cell_type": "code",
      "source": [
        "#Question no 2 Write a Python program that displays your name and age\n",
        "age = input(\"Enter age: \")\n",
        "name = input(\"Enter name: \")\n",
        "print(\"Hi, my name is \" + name + \", and I am \" + age + \" years old.\")"
      ],
      "metadata": {
        "colab": {
          "base_uri": "https://localhost:8080/"
        },
        "id": "CKRiB0WHqYIr",
        "outputId": "fef0e9fc-7f7f-4940-ff05-e216197bc475"
      },
      "execution_count": null,
      "outputs": [
        {
          "output_type": "stream",
          "name": "stdout",
          "text": [
            "Enter age: 27\n",
            "Enter name: Kartik  Ashok Raysing\n",
            "Hi, my name is Kartik  Ashok Raysing, and I am 27 years old.\n"
          ]
        }
      ]
    },
    {
      "cell_type": "code",
      "source": [
        "#Question no 3 Write code to print all the pre-defined keywords in Python using the keyword library\n",
        "help('keywords')"
      ],
      "metadata": {
        "colab": {
          "base_uri": "https://localhost:8080/"
        },
        "id": "ZEHE1Xqzq9ZF",
        "outputId": "2c6feadc-739e-4161-ff8a-7159d5514267"
      },
      "execution_count": null,
      "outputs": [
        {
          "output_type": "stream",
          "name": "stdout",
          "text": [
            "\n",
            "Here is a list of the Python keywords.  Enter any keyword to get more help.\n",
            "\n",
            "False               class               from                or\n",
            "None                continue            global              pass\n",
            "True                def                 if                  raise\n",
            "and                 del                 import              return\n",
            "as                  elif                in                  try\n",
            "assert              else                is                  while\n",
            "async               except              lambda              with\n",
            "await               finally             nonlocal            yield\n",
            "break               for                 not                 \n",
            "\n"
          ]
        }
      ]
    },
    {
      "cell_type": "code",
      "source": [
        "#Question no 4 Write a program that checks if a given word is a Python keyword\n",
        "#not answered need help"
      ],
      "metadata": {
        "id": "j9J_Opeet9Jd"
      },
      "execution_count": null,
      "outputs": []
    },
    {
      "cell_type": "code",
      "source": [
        "#Question no 5 Create a list and tuple in Python, and demonstrate how attempting to change an element works differently for each\n",
        "# Create a list\n",
        "list = [1, 2, 3, 4, 5]\n",
        "print(\"Original List:\", list)\n",
        "list[0] = 10\n",
        "print(\"List after modification:\", list)\n",
        "tuple = (1, 2, 3, 4, 5)\n",
        "print(\"\\nOriginal Tuple:\", tuple)\n",
        "try:\n",
        "    tuple[0] = 10\n",
        "except TypeError as e:\n",
        "    print(\"Error:\", e)"
      ],
      "metadata": {
        "colab": {
          "base_uri": "https://localhost:8080/"
        },
        "id": "glaps3GlveSz",
        "outputId": "1647b960-88e3-46d1-bb44-32f0a8b2c440"
      },
      "execution_count": null,
      "outputs": [
        {
          "output_type": "stream",
          "name": "stdout",
          "text": [
            "Original List: [1, 2, 3, 4, 5]\n",
            "List after modification: [10, 2, 3, 4, 5]\n",
            "\n",
            "Original Tuple: (1, 2, 3, 4, 5)\n",
            "Error: 'tuple' object does not support item assignment\n"
          ]
        }
      ]
    },
    {
      "cell_type": "code",
      "source": [
        "#Question no 6 Write a function to demonstrate the behavior of mutable and immutable arguments\n",
        "#Immutable Arguments\n",
        "a=(1,2,3,4,5,7)\n",
        "a[0]\n",
        "a[2]= 7"
      ],
      "metadata": {
        "colab": {
          "base_uri": "https://localhost:8080/",
          "height": 180
        },
        "id": "BetwU8epwNIo",
        "outputId": "082456be-648b-488d-cd9d-fc28a8bb3b2d"
      },
      "execution_count": null,
      "outputs": [
        {
          "output_type": "error",
          "ename": "TypeError",
          "evalue": "'tuple' object does not support item assignment",
          "traceback": [
            "\u001b[0;31m---------------------------------------------------------------------------\u001b[0m",
            "\u001b[0;31mTypeError\u001b[0m                                 Traceback (most recent call last)",
            "\u001b[0;32m<ipython-input-69-19893017cb5d>\u001b[0m in \u001b[0;36m<cell line: 0>\u001b[0;34m()\u001b[0m\n\u001b[1;32m      3\u001b[0m \u001b[0ma\u001b[0m\u001b[0;34m=\u001b[0m\u001b[0;34m(\u001b[0m\u001b[0;36m1\u001b[0m\u001b[0;34m,\u001b[0m\u001b[0;36m2\u001b[0m\u001b[0;34m,\u001b[0m\u001b[0;36m3\u001b[0m\u001b[0;34m,\u001b[0m\u001b[0;36m4\u001b[0m\u001b[0;34m,\u001b[0m\u001b[0;36m5\u001b[0m\u001b[0;34m,\u001b[0m\u001b[0;36m7\u001b[0m\u001b[0;34m)\u001b[0m\u001b[0;34m\u001b[0m\u001b[0;34m\u001b[0m\u001b[0m\n\u001b[1;32m      4\u001b[0m \u001b[0ma\u001b[0m\u001b[0;34m[\u001b[0m\u001b[0;36m0\u001b[0m\u001b[0;34m]\u001b[0m\u001b[0;34m\u001b[0m\u001b[0;34m\u001b[0m\u001b[0m\n\u001b[0;32m----> 5\u001b[0;31m \u001b[0ma\u001b[0m\u001b[0;34m[\u001b[0m\u001b[0;36m2\u001b[0m\u001b[0;34m]\u001b[0m\u001b[0;34m=\u001b[0m \u001b[0;36m7\u001b[0m\u001b[0;34m\u001b[0m\u001b[0;34m\u001b[0m\u001b[0m\n\u001b[0m",
            "\u001b[0;31mTypeError\u001b[0m: 'tuple' object does not support item assignment"
          ]
        }
      ]
    },
    {
      "cell_type": "code",
      "source": [
        "#Question no 7 Write a function to demonstrate the behavior of mutable and immutable arguments\n",
        "#Mutable Arguments\n",
        "list_cont =[1,2,3,4,5,6,\"kartik\"]\n",
        "list_cont[6]\n",
        "list_cont[6]= \"raysing\"\n",
        "list_cont"
      ],
      "metadata": {
        "colab": {
          "base_uri": "https://localhost:8080/"
        },
        "id": "GK3XPL0Wx0iY",
        "outputId": "87a9d646-90e5-4842-e7a3-e830f24dfc0b"
      },
      "execution_count": null,
      "outputs": [
        {
          "output_type": "execute_result",
          "data": {
            "text/plain": [
              "[1, 2, 3, 4, 5, 6, 'raysing']"
            ]
          },
          "metadata": {},
          "execution_count": 68
        }
      ]
    },
    {
      "cell_type": "code",
      "source": [
        "#Question no 8 Write a program to demonstrate the use of logical operators\n",
        "x = 5\n",
        "y = 3\n",
        "print(\"x > 4 and y > 2:\", x > 4 and y > 2)\n",
        "print(\"x > 4 or y > 4:\", x > 4 or y > 4)\n",
        "print(\"not x > 4:\", not x > 4)\n",
        "print(\"x > 4 and y > 2 or x == 5:\", x > 4 and y > 2 or x == 5)\n",
        "if x > 4 and y > 2:\n",
        "    print(\"Both conditions are true\")\n",
        "else:\n",
        "    print(\"At least one condition is false\")\n",
        "numbers = [1, 2, 3, 4, 5]\n",
        "if 2 in numbers and 6 not in numbers:\n",
        "    print(\"2 is in the list and 6 is not\")"
      ],
      "metadata": {
        "colab": {
          "base_uri": "https://localhost:8080/"
        },
        "id": "5hRjxPnX0Hkw",
        "outputId": "d5576e90-4bfa-4dc1-a3e2-7afbff71a666"
      },
      "execution_count": null,
      "outputs": [
        {
          "output_type": "stream",
          "name": "stdout",
          "text": [
            "x > 4 and y > 2: True\n",
            "x > 4 or y > 4: True\n",
            "not x > 4: False\n",
            "x > 4 and y > 2 or x == 5: True\n",
            "Both conditions are true\n",
            "2 is in the list and 6 is not\n"
          ]
        }
      ]
    },
    {
      "cell_type": "code",
      "source": [
        "#Question no 9 Write a Python program to convert user input from string to integer, float, and boolean types\n",
        "a=\"2\"\n",
        "b=4\n",
        "int(a)+b\n"
      ],
      "metadata": {
        "colab": {
          "base_uri": "https://localhost:8080/"
        },
        "id": "crkCTiWr1Tcx",
        "outputId": "fe50d6ba-a3be-468a-d818-fbd7bc3d843a"
      },
      "execution_count": 2,
      "outputs": [
        {
          "output_type": "execute_result",
          "data": {
            "text/plain": [
              "6"
            ]
          },
          "metadata": {},
          "execution_count": 2
        }
      ]
    },
    {
      "cell_type": "code",
      "source": [
        "a= \"3.5\"\n",
        "b= 6\n",
        "float(a)+b"
      ],
      "metadata": {
        "colab": {
          "base_uri": "https://localhost:8080/"
        },
        "id": "voiQu9kVfFWU",
        "outputId": "d2d8c1e2-9555-45d7-b198-33e173dff851"
      },
      "execution_count": 8,
      "outputs": [
        {
          "output_type": "execute_result",
          "data": {
            "text/plain": [
              "9.5"
            ]
          },
          "metadata": {},
          "execution_count": 8
        }
      ]
    },
    {
      "cell_type": "code",
      "source": [
        "a= \"\"\n",
        "bool(a)"
      ],
      "metadata": {
        "colab": {
          "base_uri": "https://localhost:8080/"
        },
        "id": "oMGdCD8tfq3h",
        "outputId": "8f43b3e5-973a-4676-b1b5-6e95e792b27b"
      },
      "execution_count": 9,
      "outputs": [
        {
          "output_type": "execute_result",
          "data": {
            "text/plain": [
              "False"
            ]
          },
          "metadata": {},
          "execution_count": 9
        }
      ]
    },
    {
      "cell_type": "code",
      "source": [
        "a=\"200\"\n",
        "bool(a)"
      ],
      "metadata": {
        "colab": {
          "base_uri": "https://localhost:8080/"
        },
        "id": "ay0mAO0ZgXf0",
        "outputId": "6a41f29c-e8aa-416c-c8f0-12b3897d3ee7"
      },
      "execution_count": 10,
      "outputs": [
        {
          "output_type": "execute_result",
          "data": {
            "text/plain": [
              "True"
            ]
          },
          "metadata": {},
          "execution_count": 10
        }
      ]
    },
    {
      "cell_type": "code",
      "source": [
        "#Question no 10 Write code to demonstrate type casting with list elements\n",
        "a= list(\"1,2,3,4,5,6,\"\"7\")\n",
        "int(a)"
      ],
      "metadata": {
        "colab": {
          "base_uri": "https://localhost:8080/",
          "height": 180
        },
        "id": "G2rvw-KSgfVQ",
        "outputId": "5266194f-ddcc-439b-b5d0-a34dd81d598c"
      },
      "execution_count": 16,
      "outputs": [
        {
          "output_type": "error",
          "ename": "TypeError",
          "evalue": "int() argument must be a string, a bytes-like object or a real number, not 'list'",
          "traceback": [
            "\u001b[0;31m---------------------------------------------------------------------------\u001b[0m",
            "\u001b[0;31mTypeError\u001b[0m                                 Traceback (most recent call last)",
            "\u001b[0;32m<ipython-input-16-bf9f48636057>\u001b[0m in \u001b[0;36m<cell line: 0>\u001b[0;34m()\u001b[0m\n\u001b[1;32m      1\u001b[0m \u001b[0;31m#Question no 8 Write code to demonstrate type casting with list elements\u001b[0m\u001b[0;34m\u001b[0m\u001b[0;34m\u001b[0m\u001b[0m\n\u001b[1;32m      2\u001b[0m \u001b[0ma\u001b[0m\u001b[0;34m=\u001b[0m \u001b[0mlist\u001b[0m\u001b[0;34m(\u001b[0m\u001b[0;34m\"1,2,3,4,5,6,\"\u001b[0m\u001b[0;34m\"7\"\u001b[0m\u001b[0;34m)\u001b[0m\u001b[0;34m\u001b[0m\u001b[0;34m\u001b[0m\u001b[0m\n\u001b[0;32m----> 3\u001b[0;31m \u001b[0mint\u001b[0m\u001b[0;34m(\u001b[0m\u001b[0ma\u001b[0m\u001b[0;34m)\u001b[0m\u001b[0;34m\u001b[0m\u001b[0;34m\u001b[0m\u001b[0m\n\u001b[0m",
            "\u001b[0;31mTypeError\u001b[0m: int() argument must be a string, a bytes-like object or a real number, not 'list'"
          ]
        }
      ]
    },
    {
      "cell_type": "code",
      "source": [
        "#Question no 11 Write a program that checks if a number is positive, negative, or zero\n",
        "def check_number(num):\n",
        "    if num > 0:\n",
        "        print(f\"{num} is a positive number.\")\n",
        "    elif num < 0:\n",
        "        print(f\"{num} is a negative number.\")\n",
        "    else:\n",
        "        print(f\"{num} is zero.\")\n",
        "num = float(input(\"Enter a number: \"))\n",
        "check_number(num)"
      ],
      "metadata": {
        "colab": {
          "base_uri": "https://localhost:8080/"
        },
        "id": "_rgECDLKiXZM",
        "outputId": "cb5d1fec-61ad-4ef4-c118-ee83f5e6e24d"
      },
      "execution_count": 21,
      "outputs": [
        {
          "output_type": "stream",
          "name": "stdout",
          "text": [
            "Enter a number: 9\n",
            "9.0 is a positive number.\n"
          ]
        }
      ]
    },
    {
      "cell_type": "code",
      "source": [
        "#Question no 12 Write a for loop to print numbers from 1 to 100\n",
        "for i in range(1, 101):\n",
        "    print(i)\n"
      ],
      "metadata": {
        "colab": {
          "base_uri": "https://localhost:8080/"
        },
        "id": "VZxbUqqdjJF0",
        "outputId": "45eeed7b-ddf9-4a3a-e426-8b6cfc67087d"
      },
      "execution_count": 22,
      "outputs": [
        {
          "output_type": "stream",
          "name": "stdout",
          "text": [
            "1\n",
            "2\n",
            "3\n",
            "4\n",
            "5\n",
            "6\n",
            "7\n",
            "8\n",
            "9\n",
            "10\n",
            "11\n",
            "12\n",
            "13\n",
            "14\n",
            "15\n",
            "16\n",
            "17\n",
            "18\n",
            "19\n",
            "20\n",
            "21\n",
            "22\n",
            "23\n",
            "24\n",
            "25\n",
            "26\n",
            "27\n",
            "28\n",
            "29\n",
            "30\n",
            "31\n",
            "32\n",
            "33\n",
            "34\n",
            "35\n",
            "36\n",
            "37\n",
            "38\n",
            "39\n",
            "40\n",
            "41\n",
            "42\n",
            "43\n",
            "44\n",
            "45\n",
            "46\n",
            "47\n",
            "48\n",
            "49\n",
            "50\n",
            "51\n",
            "52\n",
            "53\n",
            "54\n",
            "55\n",
            "56\n",
            "57\n",
            "58\n",
            "59\n",
            "60\n",
            "61\n",
            "62\n",
            "63\n",
            "64\n",
            "65\n",
            "66\n",
            "67\n",
            "68\n",
            "69\n",
            "70\n",
            "71\n",
            "72\n",
            "73\n",
            "74\n",
            "75\n",
            "76\n",
            "77\n",
            "78\n",
            "79\n",
            "80\n",
            "81\n",
            "82\n",
            "83\n",
            "84\n",
            "85\n",
            "86\n",
            "87\n",
            "88\n",
            "89\n",
            "90\n",
            "91\n",
            "92\n",
            "93\n",
            "94\n",
            "95\n",
            "96\n",
            "97\n",
            "98\n",
            "99\n",
            "100\n"
          ]
        }
      ]
    },
    {
      "cell_type": "code",
      "source": [
        "#Question no 13 Write a Python program to find the sum of all even numbers between 1 and 50\n",
        "def sum_even_numbers(start, end):\n",
        "    even_sum = 0\n",
        "    for num in range(start, end + 1):\n",
        "        if num % 2 == 0:\n",
        "            even_sum += num\n",
        "    return even_sum\n",
        "\n",
        "start = 1\n",
        "end = 50\n",
        "result = sum_even_numbers(start, end)\n",
        "print(f\"The sum of all even numbers between {start} and {end} is: {result}\")"
      ],
      "metadata": {
        "colab": {
          "base_uri": "https://localhost:8080/"
        },
        "id": "0yaOWBlEjc2k",
        "outputId": "492c0cbb-a5a9-4716-f94c-de39baa76dec"
      },
      "execution_count": 35,
      "outputs": [
        {
          "output_type": "stream",
          "name": "stdout",
          "text": [
            "The sum of all even numbers between 1 and 50 is: 650\n"
          ]
        }
      ]
    },
    {
      "cell_type": "code",
      "source": [
        "#Question no 14 Write a program to reverse a string using a while loop\n",
        "\n",
        "def reverse_string(input_str):\n",
        "    reversed_str = \"\"\n",
        "    i = len(input_str) - 1\n",
        "    while i >= 0:\n",
        "        reversed_str += input_str[i]\n",
        "        i -= 1\n",
        "    return reversed_str\n",
        "\n",
        "input_str = input(\"Enter a string: \")\n",
        "print(\"Reversed string:\", reverse_string(input_str))"
      ],
      "metadata": {
        "colab": {
          "base_uri": "https://localhost:8080/"
        },
        "id": "MBOl2_hEkGQK",
        "outputId": "db1dca14-78b9-41f4-b2c3-879931a8480e"
      },
      "execution_count": 34,
      "outputs": [
        {
          "output_type": "stream",
          "name": "stdout",
          "text": [
            "Enter a string: hello world\n",
            "Reversed string: dlrow olleh\n"
          ]
        }
      ]
    },
    {
      "cell_type": "code",
      "source": [
        "#Question no 15 Write a Python program to calculate the factorial of a number provided by the user using a while loop\n",
        "\n",
        "\n",
        "def calculate_factorial(num):\n",
        "    factorial = 1\n",
        "    i = 1\n",
        "    while i <= num:\n",
        "        factorial *= i\n",
        "        i += 1\n",
        "    return factorial\n",
        "\n",
        "num = int(input(\"Enter a number: \"))\n",
        "if num < 0:\n",
        "    print(\"Factorial is not defined for negative numbers.\")\n",
        "else:\n",
        "    result = calculate_factorial(num)\n",
        "    print(f\"The factorial of {num} is: {result}\")"
      ],
      "metadata": {
        "id": "Xj0S1INnkxfF"
      },
      "execution_count": null,
      "outputs": []
    }
  ]
}